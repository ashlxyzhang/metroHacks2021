{
 "cells": [
  {
   "cell_type": "code",
   "execution_count": 31,
   "metadata": {},
   "outputs": [
    {
     "name": "stdout",
     "output_type": "stream",
     "text": [
      "{'upload_url': 'https://cdn.assemblyai.com/upload/39149c51-03a1-495a-9828-822c1241329b'}\n"
     ]
    }
   ],
   "source": [
    "import sys\n",
    "import time\n",
    "import requests\n",
    "\n",
    "filename = \"/Users/ashley/Documents/VSCode/metrohacks2021/arctic_tern_test.mp3\"\n",
    "\n",
    "def read_file(filename, chunk_size=5242880):\n",
    "    with open(filename, 'rb') as _file:\n",
    "        while True:\n",
    "            data = _file.read(chunk_size)\n",
    "            if not data:\n",
    "                break\n",
    "            yield data\n",
    " \n",
    "headers = {'authorization': \"b7d40c7c26294f6eb9bffc672a93384e\"}\n",
    "response = requests.post('https://api.assemblyai.com/v2/upload',\n",
    "                         headers=headers,\n",
    "                         data=read_file(filename))\n",
    "\n",
    "print(response.json())"
   ]
  },
  {
   "cell_type": "code",
   "execution_count": 32,
   "metadata": {},
   "outputs": [
    {
     "name": "stdout",
     "output_type": "stream",
     "text": [
      "{'id': '5clvcvr2d-d7ec-4b5f-981e-b0a9cd324884', 'language_model': 'assemblyai_default', 'acoustic_model': 'assemblyai_default', 'language_code': 'en_us', 'status': 'queued', 'audio_url': 'https://cdn.assemblyai.com/upload/39149c51-03a1-495a-9828-822c1241329b', 'text': None, 'words': None, 'utterances': None, 'confidence': None, 'audio_duration': None, 'punctuate': True, 'format_text': True, 'dual_channel': None, 'webhook_url': None, 'webhook_status_code': None, 'speed_boost': False, 'auto_highlights_result': None, 'auto_highlights': False, 'audio_start_from': None, 'audio_end_at': None, 'word_boost': [], 'boost_param': None, 'filter_profanity': False, 'redact_pii': False, 'redact_pii_audio': False, 'redact_pii_audio_quality': None, 'redact_pii_policies': None, 'redact_pii_sub': None, 'speaker_labels': False, 'content_safety': False, 'iab_categories': False, 'content_safety_labels': {}, 'iab_categories_result': {}, 'disfluencies': False, 'sentiment_analysis': False, 'sentiment_analysis_results': None, 'auto_chapters': False, 'chapters': None}\n"
     ]
    }
   ],
   "source": [
    "endpoint = \"https://api.assemblyai.com/v2/transcript\"\n",
    "\n",
    "json = {\n",
    "  \"audio_url\": \"https://cdn.assemblyai.com/upload/39149c51-03a1-495a-9828-822c1241329b\"\n",
    "}\n",
    "\n",
    "headers = {\n",
    "    \"authorization\": \"b7d40c7c26294f6eb9bffc672a93384e\",\n",
    "    \"content-type\": \"application/json\"\n",
    "}\n",
    "\n",
    "response = requests.post(endpoint, json=json, headers=headers)\n",
    "\n",
    "print(response.json())"
   ]
  },
  {
   "cell_type": "code",
   "execution_count": 33,
   "metadata": {},
   "outputs": [
    {
     "name": "stdout",
     "output_type": "stream",
     "text": [
      "{'id': '5clvcvr2d-d7ec-4b5f-981e-b0a9cd324884', 'language_model': 'assemblyai_default', 'acoustic_model': 'assemblyai_default', 'language_code': 'en_us', 'status': 'completed', 'audio_url': 'https://cdn.assemblyai.com/upload/39149c51-03a1-495a-9828-822c1241329b', 'text': 'Sometimes the unexpected happens. And in the modern world in which the exciting years of childhood seem to be dominated by computer games, a new book arrived at delights the heart and the mind. The Voyage of the Arctic Tent is an epic tale of sailing ships and sailors. It with avarice, sunken treasure and treachery. But good men triumph, and bad men are exposed as base and worthless.', 'words': [{'text': 'Sometimes', 'start': 1090, 'end': 1362, 'confidence': 0.99715, 'speaker': None}, {'text': 'the', 'start': 1436, 'end': 1638, 'confidence': 0.98599, 'speaker': None}, {'text': 'unexpected', 'start': 1664, 'end': 2278, 'confidence': 0.45359, 'speaker': None}, {'text': 'happens.', 'start': 2314, 'end': 2622, 'confidence': 0.98554, 'speaker': None}, {'text': 'And', 'start': 2696, 'end': 2898, 'confidence': 0.89762, 'speaker': None}, {'text': 'in', 'start': 2924, 'end': 3042, 'confidence': 0.98542, 'speaker': None}, {'text': 'the', 'start': 3056, 'end': 3198, 'confidence': 0.96848, 'speaker': None}, {'text': 'modern', 'start': 3224, 'end': 3514, 'confidence': 0.9991, 'speaker': None}, {'text': 'world', 'start': 3562, 'end': 3954, 'confidence': 0.99333, 'speaker': None}, {'text': 'in', 'start': 4052, 'end': 4242, 'confidence': 0.98594, 'speaker': None}, {'text': 'which', 'start': 4256, 'end': 4470, 'confidence': 0.87549, 'speaker': None}, {'text': 'the', 'start': 4520, 'end': 4734, 'confidence': 0.78686, 'speaker': None}, {'text': 'exciting', 'start': 4772, 'end': 5074, 'confidence': 0.84728, 'speaker': None}, {'text': 'years', 'start': 5122, 'end': 5298, 'confidence': 0.98319, 'speaker': None}, {'text': 'of', 'start': 5324, 'end': 5442, 'confidence': 0.7666, 'speaker': None}, {'text': 'childhood', 'start': 5456, 'end': 5854, 'confidence': 0.80745, 'speaker': None}, {'text': 'seem', 'start': 5902, 'end': 6082, 'confidence': 0.4113, 'speaker': None}, {'text': 'to', 'start': 6106, 'end': 6186, 'confidence': 0.99743, 'speaker': None}, {'text': 'be', 'start': 6188, 'end': 6282, 'confidence': 0.98531, 'speaker': None}, {'text': 'dominated', 'start': 6296, 'end': 6718, 'confidence': 0.99733, 'speaker': None}, {'text': 'by', 'start': 6754, 'end': 6954, 'confidence': 0.61912, 'speaker': None}, {'text': 'computer', 'start': 6992, 'end': 7266, 'confidence': 0.99998, 'speaker': None}, {'text': 'games,', 'start': 7328, 'end': 7714, 'confidence': 0.96015, 'speaker': None}, {'text': 'a', 'start': 7762, 'end': 7902, 'confidence': 0.977, 'speaker': None}, {'text': 'new', 'start': 7916, 'end': 8094, 'confidence': 0.98975, 'speaker': None}, {'text': 'book', 'start': 8132, 'end': 8334, 'confidence': 0.9987, 'speaker': None}, {'text': 'arrived', 'start': 8372, 'end': 8662, 'confidence': 0.27029, 'speaker': None}, {'text': 'at', 'start': 8686, 'end': 8802, 'confidence': 0.66598, 'speaker': None}, {'text': 'delights', 'start': 8816, 'end': 9202, 'confidence': 0.87465, 'speaker': None}, {'text': 'the', 'start': 9226, 'end': 9342, 'confidence': 0.99154, 'speaker': None}, {'text': 'heart', 'start': 9356, 'end': 9498, 'confidence': 0.9983, 'speaker': None}, {'text': 'and', 'start': 9524, 'end': 9642, 'confidence': 0.76084, 'speaker': None}, {'text': 'the', 'start': 9656, 'end': 9762, 'confidence': 0.8846, 'speaker': None}, {'text': 'mind.', 'start': 9776, 'end': 10278, 'confidence': 0.93737, 'speaker': None}, {'text': 'The', 'start': 10424, 'end': 10698, 'confidence': 0.999, 'speaker': None}, {'text': 'Voyage', 'start': 10724, 'end': 11038, 'confidence': 0.99894, 'speaker': None}, {'text': 'of', 'start': 11074, 'end': 11202, 'confidence': 0.99699, 'speaker': None}, {'text': 'the', 'start': 11216, 'end': 11322, 'confidence': 0.98303, 'speaker': None}, {'text': 'Arctic', 'start': 11336, 'end': 11698, 'confidence': 0.99824, 'speaker': None}, {'text': 'Tent', 'start': 11734, 'end': 12022, 'confidence': 0.88676, 'speaker': None}, {'text': 'is', 'start': 12046, 'end': 12198, 'confidence': 0.99722, 'speaker': None}, {'text': 'an', 'start': 12224, 'end': 12342, 'confidence': 0.987, 'speaker': None}, {'text': 'epic', 'start': 12356, 'end': 12598, 'confidence': 0.99332, 'speaker': None}, {'text': 'tale', 'start': 12634, 'end': 12862, 'confidence': 0.90358, 'speaker': None}, {'text': 'of', 'start': 12886, 'end': 13002, 'confidence': 0.99937, 'speaker': None}, {'text': 'sailing', 'start': 13016, 'end': 13342, 'confidence': 0.8077, 'speaker': None}, {'text': 'ships', 'start': 13366, 'end': 13618, 'confidence': 0.83927, 'speaker': None}, {'text': 'and', 'start': 13654, 'end': 13782, 'confidence': 0.97732, 'speaker': None}, {'text': 'sailors.', 'start': 13796, 'end': 14302, 'confidence': 0.8813, 'speaker': None}, {'text': 'It', 'start': 14386, 'end': 14922, 'confidence': 0.53734, 'speaker': None}, {'text': 'with', 'start': 15056, 'end': 15354, 'confidence': 0.98269, 'speaker': None}, {'text': 'avarice,', 'start': 15392, 'end': 16170, 'confidence': 0.88964, 'speaker': None}, {'text': 'sunken', 'start': 16490, 'end': 17014, 'confidence': 0.91944, 'speaker': None}, {'text': 'treasure', 'start': 17062, 'end': 17410, 'confidence': 0.98677, 'speaker': None}, {'text': 'and', 'start': 17470, 'end': 17658, 'confidence': 0.63319, 'speaker': None}, {'text': 'treachery.', 'start': 17684, 'end': 18274, 'confidence': 0.57876, 'speaker': None}, {'text': 'But', 'start': 18382, 'end': 18654, 'confidence': 0.99362, 'speaker': None}, {'text': 'good', 'start': 18692, 'end': 18858, 'confidence': 0.99953, 'speaker': None}, {'text': 'men', 'start': 18884, 'end': 19074, 'confidence': 0.99116, 'speaker': None}, {'text': 'triumph,', 'start': 19112, 'end': 19498, 'confidence': 0.54164, 'speaker': None}, {'text': 'and', 'start': 19534, 'end': 19698, 'confidence': 0.99734, 'speaker': None}, {'text': 'bad', 'start': 19724, 'end': 19914, 'confidence': 0.99844, 'speaker': None}, {'text': 'men', 'start': 19952, 'end': 20118, 'confidence': 0.9959, 'speaker': None}, {'text': 'are', 'start': 20144, 'end': 20262, 'confidence': 0.99958, 'speaker': None}, {'text': 'exposed', 'start': 20276, 'end': 20710, 'confidence': 0.8089, 'speaker': None}, {'text': 'as', 'start': 20770, 'end': 20958, 'confidence': 0.99789, 'speaker': None}, {'text': 'base', 'start': 20984, 'end': 21210, 'confidence': 0.926, 'speaker': None}, {'text': 'and', 'start': 21260, 'end': 21438, 'confidence': 0.97569, 'speaker': None}, {'text': 'worthless.', 'start': 21464, 'end': 21730, 'confidence': 0.98798, 'speaker': None}], 'utterances': None, 'confidence': 0.893176956521739, 'audio_duration': 25, 'punctuate': True, 'format_text': True, 'dual_channel': None, 'webhook_url': None, 'webhook_status_code': None, 'speed_boost': False, 'auto_highlights_result': None, 'auto_highlights': False, 'audio_start_from': None, 'audio_end_at': None, 'word_boost': [], 'boost_param': None, 'filter_profanity': False, 'redact_pii': False, 'redact_pii_audio': False, 'redact_pii_audio_quality': None, 'redact_pii_policies': None, 'redact_pii_sub': None, 'speaker_labels': False, 'content_safety': False, 'iab_categories': False, 'content_safety_labels': {'status': 'unavailable', 'results': [], 'summary': {}}, 'iab_categories_result': {'status': 'unavailable', 'results': [], 'summary': {}}, 'disfluencies': False, 'sentiment_analysis': False, 'auto_chapters': False, 'chapters': None, 'sentiment_analysis_results': None}\n"
     ]
    }
   ],
   "source": [
    "import requests\n",
    "\n",
    "endpoint = \"https://api.assemblyai.com/v2/transcript/5clvcvr2d-d7ec-4b5f-981e-b0a9cd324884\"\n",
    "\n",
    "headers = {\n",
    "    \"authorization\": \"b7d40c7c26294f6eb9bffc672a93384e\",\n",
    "}\n",
    "\n",
    "response = requests.get(endpoint, headers=headers)\n",
    "\n",
    "print(response.json())"
   ]
  }
 ],
 "metadata": {
  "interpreter": {
   "hash": "aee8b7b246df8f9039afb4144a1f6fd8d2ca17a180786b69acc140d282b71a49"
  },
  "kernelspec": {
   "display_name": "Python 3.9.6 64-bit",
   "language": "python",
   "name": "python3"
  },
  "language_info": {
   "codemirror_mode": {
    "name": "ipython",
    "version": 3
   },
   "file_extension": ".py",
   "mimetype": "text/x-python",
   "name": "python",
   "nbconvert_exporter": "python",
   "pygments_lexer": "ipython3",
   "version": "3.9.6"
  },
  "orig_nbformat": 4
 },
 "nbformat": 4,
 "nbformat_minor": 2
}
