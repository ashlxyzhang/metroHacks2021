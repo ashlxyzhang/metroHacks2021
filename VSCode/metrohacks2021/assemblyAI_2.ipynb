{
 "cells": [
  {
   "cell_type": "code",
   "execution_count": 1,
   "metadata": {},
   "outputs": [],
   "source": [
    "import sys\n",
    "import requests\n",
    "import pprint\n",
    "from time import sleep"
   ]
  },
  {
   "cell_type": "code",
   "execution_count": 2,
   "metadata": {},
   "outputs": [],
   "source": [
    "# store global constants\n",
    "headers = {\n",
    "   \"authorization\": \"b7d40c7c26294f6eb9bffc672a93384e\",\n",
    "   \"content-type\": \"application/json\"\n",
    "}\n",
    "transcript_endpoint = \"https://api.assemblyai.com/v2/transcript\"\n",
    "upload_endpoint = 'https://api.assemblyai.com/v2/upload'"
   ]
  },
  {
   "cell_type": "code",
   "execution_count": 3,
   "metadata": {},
   "outputs": [],
   "source": [
    "# make a function to pass the mp3 to the upload endpoint\n",
    "def read_file(filename):\n",
    "   with open(filename, 'rb') as _file:\n",
    "       while True:\n",
    "           data = _file.read(5242880)\n",
    "           if not data:\n",
    "               break\n",
    "           yield data"
   ]
  },
  {
   "cell_type": "code",
   "execution_count": 4,
   "metadata": {},
   "outputs": [],
   "source": [
    "from ipywidgets import *\n",
    "from IPython.display import display, clear_output\n",
    "from tkinter import Tk, filedialog"
   ]
  },
  {
   "cell_type": "code",
   "execution_count": 5,
   "metadata": {},
   "outputs": [],
   "source": [
    "# !jupyter nbextension enable --py widgetsnbextension --sys-prefix\n",
    "# !jupyter serverextension enable voila --sys-prefix"
   ]
  },
  {
   "cell_type": "code",
   "execution_count": 6,
   "metadata": {},
   "outputs": [
    {
     "name": "stdout",
     "output_type": "stream",
     "text": [
      "/Users/ashley/Documents/VSCode/metrohacks2021/arctic_tern_test.mp3\n",
      "Audio file uploaded\n"
     ]
    }
   ],
   "source": [
    "def select_files(b):\n",
    "    clear_output()\n",
    "    root = Tk()\n",
    "    root.withdraw() # Hide the main window.\n",
    "    root.call('wm', 'attributes', '.', '-topmost', True) # Raise the root to the top of all windows.\n",
    "    b.files = filedialog.askopenfilename() # List of selected files will be set button's file attribute.\n",
    "    return b.files # Print the list of files selected.\n",
    "\n",
    "fileselect = Button(description=\"File select\")\n",
    "\n",
    "display(fileselect)\n",
    "\n",
    "file_path = select_files(fileselect)\n",
    "print(file_path)\n",
    "\n",
    "# upload our audio file\n",
    "upload_response = requests.post(\n",
    "   upload_endpoint,\n",
    "   headers=headers, data=read_file(file_path)\n",
    ")\n",
    "print('Audio file uploaded')"
   ]
  },
  {
   "cell_type": "code",
   "execution_count": 7,
   "metadata": {},
   "outputs": [
    {
     "name": "stdout",
     "output_type": "stream",
     "text": [
      "Transcription Requested\n",
      "{'acoustic_model': 'assemblyai_default',\n",
      " 'audio_duration': None,\n",
      " 'audio_end_at': None,\n",
      " 'audio_start_from': None,\n",
      " 'audio_url': 'https://cdn.assemblyai.com/upload/46260428-064a-41e2-a704-fc6b16333d8e',\n",
      " 'auto_chapters': False,\n",
      " 'auto_highlights': False,\n",
      " 'auto_highlights_result': None,\n",
      " 'boost_param': None,\n",
      " 'chapters': None,\n",
      " 'confidence': None,\n",
      " 'content_safety': False,\n",
      " 'content_safety_labels': {},\n",
      " 'disfluencies': False,\n",
      " 'dual_channel': None,\n",
      " 'filter_profanity': False,\n",
      " 'format_text': True,\n",
      " 'iab_categories': False,\n",
      " 'iab_categories_result': {},\n",
      " 'id': '5c59qqn3c-90a2-4428-bad9-659c267a7bae',\n",
      " 'language_code': 'en_us',\n",
      " 'language_model': 'assemblyai_default',\n",
      " 'punctuate': True,\n",
      " 'redact_pii': False,\n",
      " 'redact_pii_audio': False,\n",
      " 'redact_pii_audio_quality': None,\n",
      " 'redact_pii_policies': None,\n",
      " 'redact_pii_sub': None,\n",
      " 'sentiment_analysis': False,\n",
      " 'sentiment_analysis_results': None,\n",
      " 'speaker_labels': False,\n",
      " 'speed_boost': False,\n",
      " 'status': 'queued',\n",
      " 'text': None,\n",
      " 'utterances': None,\n",
      " 'webhook_status_code': None,\n",
      " 'webhook_url': None,\n",
      " 'word_boost': [],\n",
      " 'words': None}\n",
      "File is completed\n",
      "Transcript saved to arctic_tern_test.mp3.txt\n"
     ]
    }
   ],
   "source": [
    "# send a request to transcribe the audio file\n",
    "transcript_request = {'audio_url': upload_response.json()['upload_url']}\n",
    "transcript_response = requests.post(transcript_endpoint, json=transcript_request, headers=headers)\n",
    "print('Transcription Requested')\n",
    "pprint.pprint(transcript_response.json())\n",
    "# set up polling\n",
    "polling_response = requests.get(transcript_endpoint+\"/\"+transcript_response.json()['id'], headers=headers)\n",
    "filename = os.path.basename(file_path) + '.txt'\n",
    "# if our status isn’t complete, sleep and then poll again\n",
    "while polling_response.json()['status'] != 'completed':\n",
    "   sleep(30)\n",
    "   polling_response = requests.get(transcript_endpoint+\"/\"+transcript_response.json()['id'], headers=headers)\n",
    "   print(\"File is\", polling_response.json()['status'])\n",
    "with open(filename, 'w') as f:\n",
    "   f.write(polling_response.json()['text'])\n",
    "print('Transcript saved to', filename)"
   ]
  },
  {
   "cell_type": "code",
   "execution_count": 9,
   "metadata": {},
   "outputs": [
    {
     "name": "stdout",
     "output_type": "stream",
     "text": [
      "Sometimes the unexpected happens. And in the modern world in which the exciting years of childhood seem to be dominated by computer games, a new book arrived at delights the heart and the mind. The Voyage of the Arctic Tent is an epic tale of sailing ships and sailors. It with avarice, sunken treasure and treachery. But good men triumph, and bad men are exposed as base and worthless.\n"
     ]
    }
   ],
   "source": [
    "transcription = open(filename,'r')\n",
    "print(transcription.read())\n",
    "transcription.close()"
   ]
  }
 ],
 "metadata": {
  "interpreter": {
   "hash": "aee8b7b246df8f9039afb4144a1f6fd8d2ca17a180786b69acc140d282b71a49"
  },
  "kernelspec": {
   "display_name": "Python 3.9.6 64-bit",
   "language": "python",
   "name": "python3"
  },
  "language_info": {
   "codemirror_mode": {
    "name": "ipython",
    "version": 3
   },
   "file_extension": ".py",
   "mimetype": "text/x-python",
   "name": "python",
   "nbconvert_exporter": "python",
   "pygments_lexer": "ipython3",
   "version": "3.9.6"
  },
  "orig_nbformat": 4
 },
 "nbformat": 4,
 "nbformat_minor": 2
}
